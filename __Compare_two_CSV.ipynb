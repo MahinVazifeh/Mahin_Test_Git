{
 "cells": [
  {
   "cell_type": "code",
   "execution_count": 1,
   "id": "0fb25f2e",
   "metadata": {},
   "outputs": [],
   "source": [
    "import pandas as pd"
   ]
  },
  {
   "cell_type": "code",
   "execution_count": 126,
   "id": "b14aca8b",
   "metadata": {
    "collapsed": true
   },
   "outputs": [
    {
     "name": "stdout",
     "output_type": "stream",
     "text": [
      "Index(['CAP', 'Patient_ID', 'Date_of_visit',\n",
      "       'EDSS_score_assessed_by_clinician', 'Sex', 'MS.in.pediatric.age', 'Age',\n",
      "       'Relapse_number', 'Pyramidal', 'Cerebellar', 'Thronchioencephalic',\n",
      "       'Sensitive', 'Sphincteric', 'Visual', 'Mental', 'Deambulation', 'PM10',\n",
      "       'PM25', 'SO2', 'O3', 'N02', 'CO', 'FG', 'HU', 'PP', 'QQ', 'RR', 'TG',\n",
      "       'TN', 'TX', 'Slope_PM10', 'Slope_TX', 'Slope_PP', 'Slope_PM25',\n",
      "       'Slope_QQ', 'Slope_SO2', 'Slope_RR', 'Slope_O3', 'Slope_TG',\n",
      "       'Slope_N02', 'Slope_TN', 'Slope_CO', 'Slope_FG', 'Slope_HU',\n",
      "       'WHOPercent_PM10', 'WHOPercent_PM25', 'WHOPercent_N02', 'WHOPercent_O3',\n",
      "       'WHOPercent_SO2', 'WHOPercent_CO'],\n",
      "      dtype='object')\n",
      "Index(['CAP', 'Patient_ID', 'Date_of_visit',\n",
      "       'EDSS_score_assessed_by_clinician', 'Sex', 'MS.in.pediatric.age', 'Age',\n",
      "       'Relapse_number', 'Pyramidal', 'Cerebellar', 'Thronchioencephalic',\n",
      "       'Sensitive', 'Sphincteric', 'Visual', 'Mental', 'Deambulation', 'PM10',\n",
      "       'Slope_PM10', 'WHO_Percent_PM10', 'PP', 'Slope_PP', 'QQ', 'Slope_QQ',\n",
      "       'RR', 'Slope_RR', 'TG', 'Slope_TG', 'TN', 'Slope_TN', 'TX', 'Slope_TX',\n",
      "       'PM25', 'Slope_PM25', 'WHO_Percent_PM25', 'SO2', 'Slope_SO2',\n",
      "       'WHO_Percent_SO2', 'O3', 'Slope_O3', 'WHO_Percent_O3', 'N02',\n",
      "       'Slope_N02', 'WHO_Percent_N02', 'CO', 'Slope_CO', 'WHO_Percent_CO',\n",
      "       'FG', 'Slope_FG', 'HU', 'Slope_HU'],\n",
      "      dtype='object')\n",
      "(4195, 50)\n",
      "(4195, 50)\n"
     ]
    }
   ],
   "source": [
    "root = \"C:\\\\Users\\\\Mahin Vazifehdan\\\\Desktop\\\\Python_codes\\\\MSSS_Score\\\\Derived Datasets\\\\Second_version\\\\\"\n",
    "data = pd.read_csv(root + \"visit_to_visit.csv\")\n",
    "data_1 = pd.read_csv(root + \"5_weeks_without_missing.csv\")\n",
    "print(data.columns)\n",
    "print(data_1.columns)\n",
    "print(data.shape)\n",
    "print(data_1.shape)"
   ]
  },
  {
   "cell_type": "code",
   "execution_count": 127,
   "id": "33d18181",
   "metadata": {},
   "outputs": [],
   "source": [
    "data['Date_of_visit'] = pd.to_datetime(data['Date_of_visit'],\n",
    "                                       format ='%Y-%m-%d')\n",
    "\n",
    "data_1[\"Date_of_visit\"] = pd.to_datetime(data_1[\"Date_of_visit\"],\n",
    "                                         format ='%Y-%m-%d')"
   ]
  },
  {
   "cell_type": "code",
   "execution_count": 128,
   "id": "ac7517d3",
   "metadata": {},
   "outputs": [
    {
     "data": {
      "text/html": [
       "<div>\n",
       "<style scoped>\n",
       "    .dataframe tbody tr th:only-of-type {\n",
       "        vertical-align: middle;\n",
       "    }\n",
       "\n",
       "    .dataframe tbody tr th {\n",
       "        vertical-align: top;\n",
       "    }\n",
       "\n",
       "    .dataframe thead th {\n",
       "        text-align: right;\n",
       "    }\n",
       "</style>\n",
       "<table border=\"1\" class=\"dataframe\">\n",
       "  <thead>\n",
       "    <tr style=\"text-align: right;\">\n",
       "      <th></th>\n",
       "      <th>Patient_ID</th>\n",
       "      <th>Date_of_visit</th>\n",
       "      <th>EDSS_score_assessed_by_clinician</th>\n",
       "      <th>_merge</th>\n",
       "    </tr>\n",
       "  </thead>\n",
       "  <tbody>\n",
       "  </tbody>\n",
       "</table>\n",
       "</div>"
      ],
      "text/plain": [
       "Empty DataFrame\n",
       "Columns: [Patient_ID, Date_of_visit, EDSS_score_assessed_by_clinician, _merge]\n",
       "Index: []"
      ]
     },
     "execution_count": 128,
     "metadata": {},
     "output_type": "execute_result"
    }
   ],
   "source": [
    "data = data[['Patient_ID','Date_of_visit','EDSS_score_assessed_by_clinician']]\n",
    "data_1 = data_1[['Patient_ID','Date_of_visit','EDSS_score_assessed_by_clinician']]\n",
    "merged_data = data.merge(data_1, how='right', indicator=True)\n",
    "extra_rows = merged_data[merged_data['_merge'] != 'both']\n",
    "extra_rows.head()"
   ]
  }
 ],
 "metadata": {
  "kernelspec": {
   "display_name": "Python 3 (ipykernel)",
   "language": "python",
   "name": "python3"
  },
  "language_info": {
   "codemirror_mode": {
    "name": "ipython",
    "version": 3
   },
   "file_extension": ".py",
   "mimetype": "text/x-python",
   "name": "python",
   "nbconvert_exporter": "python",
   "pygments_lexer": "ipython3",
   "version": "3.7.9"
  }
 },
 "nbformat": 4,
 "nbformat_minor": 5
}
